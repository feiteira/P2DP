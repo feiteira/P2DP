# coding: utf-8

# # matplotlib - 2D plotting in Python

# More information at the Matplotlib web page: http://matplotlib.org/

# To get started using Matplotlib in a Python program, either include the symbols from the `pylab` module (the easy way):

# In[2]:


from pylab import *


# or import the `matplotlib.pyplot` module under the name `plt` (the tidy way):

# In[3]:


import matplotlib
import matplotlib.pyplot as plt


# In[4]:


import numpy as np

# You can use the MATLAB-like API provided by matplotlib. It is designed to be compatible with MATLAB's plotting functions, so it is easy to get started with if you are familiar with MATLAB.
# 
# To use this API from matplotlib, we need to include the symbols in the `pylab` module: 

# In[5]:

from pylab import *


# ### Example

# A simple figure with MATLAB-like plotting API:

# In[6]:


x = np.linspace(0, 5, 10)
y = x ** 2


# In[7]:


figure()
plot(x, y, 'r')
xlabel('x')
ylabel('y')
title('title')
show()


# Most of the plotting related functions in MATLAB are covered by the `pylab` module. For example, subplot and color/symbol selection:

# In[8]:


subplot(1,2,1)
plot(x, y, 'r--')
subplot(1,2,2)
plot(y, x, 'g*-');
