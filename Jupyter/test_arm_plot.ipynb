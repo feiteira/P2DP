{
 "cells": [
  {
   "cell_type": "markdown",
   "metadata": {},
   "source": [
    "# One link calculation"
   ]
  },
  {
   "cell_type": "markdown",
   "metadata": {},
   "source": [
    "We can try to calculate some coordinates based on the input angles:"
   ]
  },
  {
   "cell_type": "code",
   "execution_count": 1,
   "metadata": {
    "collapsed": true
   },
   "outputs": [],
   "source": [
    "%matplotlib inline\n",
    "from sympy import cos, sin, atan, pi\n",
    "from ipywidgets import interact, interactive\n",
    "import matplotlib.pyplot as plt\n",
    "\n",
    "def xy(a):\n",
    "    a1, a2 = a[0], a[1]\n",
    "    \n",
    "    x1 = L1*cos(a1)\n",
    "    y1 = L1*sin(a1)\n",
    "    x2 = L1*cos(a1)+L2*cos(a1+a2)\n",
    "    y2 = L1*sin(a1)+L2*sin(a1+a2)\n",
    "    \n",
    "    return [[x1, y1], [x2, y2]]\n",
    "\n",
    "def plot_arm (p1, p2):\n",
    "    \n",
    "    plt.xlim(-15,15)    \n",
    "    plt.ylim(-1,15)\n",
    "\n",
    "    plt.plot([0 ,p1[0]], [0 ,p1[1]], color=\"blue\", lw=4, aa=True)\n",
    "    plt.plot([p1[0],p2[0]], [p1[1],p2[1]], color=\"red\", lw=4, aa=True)\n",
    "    plt.plot(p1[0],p1[1], 'bo', markersize=7)\n",
    "    plt.plot(p2[0],p2[1], 'ro', markersize=12)\n",
    "\n",
    "    print(p1, p2)\n",
    "    plt.show()\n",
    "\n",
    "def plot_arm_angles (angles):\n",
    "    \n",
    "    #calculate positions\n",
    "    positions = xy(angles)\n",
    "    \n",
    "    #plot arms\n",
    "    plot_arm(positions[0], positions[1])\n",
    "\n",
    "#fig, ax = plt.subplots(figsize=(10,5))\n",
    "\n",
    "#ax.set_xlim([-15, 15])\n",
    "#ax.set_ylim([-1, 15])\n",
    "\n",
    "\n",
    "#plt.figure(1)\n",
    "\n",
    "\n",
    "L1 = 5\n",
    "L2 = 9\n",
    "\n",
    "\n",
    "\n",
    "#plot_arm_angles (angles1)\n",
    "\n",
    "def f(a1, a2):\n",
    "    angles = [a1, a2]\n",
    "    plot_arm_angles (angles)\n",
    "\n",
    "def g(p1, p2):\n",
    "    point = [p1, p2]\n",
    "    po2int2 = [p1+1, p2+2]\n",
    "    plot_arm (point, point2)\n",
    "\n",
    "max_pi = float(pi)"
   ]
  },
  {
   "cell_type": "code",
   "execution_count": 3,
   "metadata": {},
   "outputs": [
    {
     "data": {
      "application/vnd.jupyter.widget-view+json": {
       "model_id": "274e6f90e0954a4dbd6167de8fe1db27",
       "version_major": 2,
       "version_minor": 0
      },
      "text/plain": [
       "A Jupyter Widget"
      ]
     },
     "metadata": {},
     "output_type": "display_data"
    }
   ],
   "source": [
    "interactive_plot = interactive(f, a1=(0, max_pi), a2=(-max_pi, max_pi))\n",
    "#interactive_plot = interactive(g, p1=(-10.0, 10.0), p2=(-10.0, 10.0))\n",
    "output = interactive_plot.children[-1]\n",
    "output.layout.height = '450px'\n",
    "output.layout.lenght = '900px'\n",
    "interactive_plot"
   ]
  },
  {
   "cell_type": "code",
   "execution_count": 2,
   "metadata": {},
   "outputs": [
    {
     "name": "stdout",
     "output_type": "stream",
     "text": [
      "[5*cos(20), 5*sin(20)] [5*cos(20) + 9*cos(50), 9*sin(50) + 5*sin(20)]\n"
     ]
    },
    {
     "data": {
      "image/png": "[encoded data removed]",
      "text/plain": [
       "<matplotlib.figure.Figure at 0x6e2b278>"
      ]
     },
     "metadata": {},
     "output_type": "display_data"
    }
   ],
   "source": [
    "a1= 20\n",
    "a2 = 30\n",
    "angles1 = [a1, a2]\n",
    "plot_arm_angles (angles1)\n"
   ]
  }
 ],
 "metadata": {
  "kernelspec": {
   "display_name": "Python 3",
   "language": "python",
   "name": "python3"
  },
  "language_info": {
   "codemirror_mode": {
    "name": "ipython",
    "version": 3
   },
   "file_extension": ".py",
   "mimetype": "text/x-python",
   "name": "python",
   "nbconvert_exporter": "python",
   "pygments_lexer": "ipython3",
   "version": "3.6.2"
  }
 },
 "nbformat": 4,
 "nbformat_minor": 2
}
